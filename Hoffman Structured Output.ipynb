{
 "cells": [
  {
   "cell_type": "code",
   "execution_count": 9,
   "id": "94c05138-35b4-46aa-a569-ffba7be4e311",
   "metadata": {},
   "outputs": [],
   "source": [
    "from typing import Type\n",
    "from pydantic import BaseModel, Field\n",
    "\n",
    "PORT_NUM = 5000\n",
    "SERVER_URL = \"http://localhost:\" + str(PORT_NUM)\n",
    "\n",
    "def generate_field_description(model: Type[BaseModel]) -> str:\n",
    "    \"\"\"\n",
    "    Takes a Pydantic model class and generates a formatted field description.\n",
    "    \"\"\"\n",
    "    field_descriptions = []\n",
    "    \n",
    "    # Loop through each field in the Pydantic model\n",
    "    for field_name, field_info in model.model_fields.items():\n",
    "        field_type = field_info.annotation.__name__  # Get the type name\n",
    "        field_desc = field_info.description if field_info.description else \"\"\n",
    "        \n",
    "        # Format field description\n",
    "        field_descriptions.append(f\"- {field_name} [{field_type}]: {field_desc}\")\n",
    "\n",
    "    # Build the JSON format string correctly (avoid f-string issues)\n",
    "    json_example = \"{\\n  \" + \",\\n  \".join(\n",
    "        [f'\"{name}\": <{model.model_fields[name].annotation.__name__}>' \n",
    "         for name in model.model_fields]\n",
    "    ) + \"\\n}\"\n",
    "\n",
    "    # Construct the final output\n",
    "    json_output = (\n",
    "        \"Generate a JSON response. The fields should include: \\n\" + \n",
    "        \"\\n\".join(field_descriptions) +\n",
    "        \"\\n\\nPlease provide the next response **only** in the following valid JSON format, without any additional text:\\n\\n\" +\n",
    "        json_example\n",
    "    )\n",
    "    \n",
    "    return json_output"
   ]
  },
  {
   "cell_type": "code",
   "execution_count": 10,
   "id": "826e5119-c741-4e7a-af5d-e71a630412ae",
   "metadata": {},
   "outputs": [
    {
     "name": "stdout",
     "output_type": "stream",
     "text": [
      "Success: Server responded with 200\n",
      "Response Content: {\"status\":\"running\"}\n",
      "\n"
     ]
    }
   ],
   "source": [
    "import requests\n",
    "\n",
    "# Define the server URL (update if needed)\n",
    "HEALTH_URL = SERVER_URL + \"/health\"\n",
    "\n",
    "try:\n",
    "    # Send a GET request\n",
    "    response = requests.get(HEALTH_URL)\n",
    "\n",
    "    # Check if request succeeded (HTTP status code 200)\n",
    "    if response.status_code == 200:\n",
    "        print(f\"Success: Server responded with {response.status_code}\")\n",
    "        print(\"Response Content:\", response.text)\n",
    "    else:\n",
    "        print(f\"Warning: Server responded with status code {response.status_code}\")\n",
    "\n",
    "except requests.exceptions.RequestException as e:\n",
    "    print(f\"Error: Could not connect to the server.\\nDetails: {e}\")"
   ]
  },
  {
   "cell_type": "code",
   "execution_count": 11,
   "id": "7eee91e5-ddc4-4729-a187-37059615250a",
   "metadata": {},
   "outputs": [],
   "source": [
    "class User(BaseModel):\n",
    "    name: str = Field(...,description=\"The user's name\")\n",
    "    age: int = Field(...,description=\"The user's age\")\n",
    "    hobbies: list[str] = Field(..., description=\"A list of the user's hobbies.\")"
   ]
  },
  {
   "cell_type": "code",
   "execution_count": 12,
   "id": "6cc3d2de-d8ce-40d5-9243-5b0e2e299c1c",
   "metadata": {},
   "outputs": [
    {
     "name": "stdout",
     "output_type": "stream",
     "text": [
      "Generate a JSON response. The fields should include: \n",
      "- name [str]: The user's name\n",
      "- age [int]: The user's age\n",
      "- hobbies [list]: A list of the user's hobbies.\n",
      "\n",
      "Please provide the next response **only** in the following valid JSON format, without any additional text:\n",
      "\n",
      "{\n",
      "  \"name\": <str>,\n",
      "  \"age\": <int>,\n",
      "  \"hobbies\": <list>\n",
      "}\n"
     ]
    }
   ],
   "source": [
    "print(generate_field_description(User))"
   ]
  },
  {
   "cell_type": "code",
   "execution_count": 13,
   "id": "12fa00eb-18c5-4397-9c08-c8ea0741ef76",
   "metadata": {},
   "outputs": [
    {
     "data": {
      "text/plain": [
       "{'name': FieldInfo(annotation=str, required=True, description=\"The user's name\"),\n",
       " 'age': FieldInfo(annotation=int, required=True, description=\"The user's age\"),\n",
       " 'hobbies': FieldInfo(annotation=list[str], required=True, description=\"A list of the user's hobbies.\")}"
      ]
     },
     "execution_count": 13,
     "metadata": {},
     "output_type": "execute_result"
    }
   ],
   "source": [
    "User.model_fields\n",
    "# User.__pydantic_fields__"
   ]
  },
  {
   "cell_type": "code",
   "execution_count": 14,
   "id": "9216773d-0e9c-4757-9f31-0fc75d1231cb",
   "metadata": {},
   "outputs": [
    {
     "name": "stdout",
     "output_type": "stream",
     "text": [
      "{\n",
      "  \"name\": \"Nancy\",\n",
      "  \"age\": 25,\n",
      "  \"hobbies\": [\"walking my dog\", \"eating avocados\", \"sleeping\"]\n",
      "}\n"
     ]
    }
   ],
   "source": [
    "import requests\n",
    "import json\n",
    "\n",
    "\n",
    "CHAT_URL = SERVER_URL + \"/chat\"\n",
    "\n",
    "# Define the request payload (matches the curl command)\n",
    "payload = {\n",
    "    \"model\": \"llama3.3:latest\",\n",
    "    \"stream\": False,\n",
    "    \"messages\": [\n",
    "        {\n",
    "            \"role\": \"system\",\n",
    "            \"content\": (\n",
    "              generate_field_description(User)\n",
    "            ),\n",
    "        },\n",
    "        {\n",
    "            \"role\": \"user\",\n",
    "            \"content\": \"hi my name is nancy, I'm 25, and I like walking my dog. I also like eating avocados and sleeping.\"\n",
    "        }\n",
    "    ]\n",
    "}\n",
    "\n",
    "# Set the headers for JSON request\n",
    "headers = {\"Content-Type\": \"application/json\"}\n",
    "\n",
    "try:\n",
    "    # Send POST request to the Flask API\n",
    "    response = requests.post(CHAT_URL, headers=headers, json=payload)\n",
    "\n",
    "    # Check if the request was successful\n",
    "    if response.status_code == 200:\n",
    "        response_json = response.json()\n",
    "        raw_content = response_json[\"message\"][\"content\"]\n",
    "        print(raw_content)\n",
    "\n",
    "    else:\n",
    "        print(f\"Error {response.status_code}: {response.text}\")\n",
    "\n",
    "except requests.exceptions.RequestException as e:\n",
    "    print(f\"Request failed: {e}\")"
   ]
  },
  {
   "cell_type": "code",
   "execution_count": null,
   "id": "5976a36d-7d08-4c2d-a48a-59d4251408a7",
   "metadata": {},
   "outputs": [],
   "source": []
  }
 ],
 "metadata": {
  "kernelspec": {
   "display_name": "Python 3",
   "language": "python",
   "name": "python3"
  },
  "language_info": {
   "codemirror_mode": {
    "name": "ipython",
    "version": 3
   },
   "file_extension": ".py",
   "mimetype": "text/x-python",
   "name": "python",
   "nbconvert_exporter": "python",
   "pygments_lexer": "ipython3",
   "version": "3.11.10"
  }
 },
 "nbformat": 4,
 "nbformat_minor": 5
}
